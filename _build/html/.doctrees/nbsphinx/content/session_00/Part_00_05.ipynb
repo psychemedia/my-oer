{
 "cells": [
  {
   "cell_type": "markdown",
   "metadata": {},
   "source": [
    "# Conclusion"
   ]
  },
  {
   "cell_type": "markdown",
   "metadata": {},
   "source": [
    "Through considering the issues raised in this course, you will have realised that some people assume assessment of geography is straightforward and easy. They often have a narrow view of what geography is and may see learning geography as a matter of learning place names and facts. As more people see geography as a way of thinking about the world, identifying patterns and relationships and understanding complex problems, so assessing students’ progress will be seen to be more complex and multifaceted.\n",
    "\n",
    "You should now also understand that assessment rarely means using a test or short questions, unless you need to assess the ability to take a test. Assessment should involve getting to the heart of students’ understanding, and hence requires activities that explore and challenge this. AfL involves students as they are the ones who are doing the learning. It should be continuous and integrated into learning activities so that students have the opportunity to act on feedback and you can adapt teaching and learning activities to more effectively support your students.\n"
   ]
  }
 ],
 "metadata": {
  "jupytext": {
   "cell_metadata_filter": "-all",
   "main_language": "python",
   "notebook_metadata_filter": "-all",
   "text_representation": {
    "extension": ".md",
    "format_name": "markdown"
   }
  }
 },
 "nbformat": 4,
 "nbformat_minor": 4
}
