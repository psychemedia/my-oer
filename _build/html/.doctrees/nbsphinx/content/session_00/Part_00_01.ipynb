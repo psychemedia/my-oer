{
 "cells": [
  {
   "cell_type": "markdown",
   "metadata": {},
   "source": [
    "# 1 What does it mean to make progress in geography?"
   ]
  },
  {
   "cell_type": "markdown",
   "metadata": {},
   "source": [
    "As a teacher, it is your responsibility to help students to make progress in learning but what exactly constitutes progress? "
   ]
  },
  {
   "cell_type": "markdown",
   "metadata": {},
   "source": [
    "### Activity 1 Defining progress \n",
    "__Timing: Allow about 10 minutes__"
   ]
  },
  {
   "cell_type": "markdown",
   "metadata": {},
   "source": [
    "#### Question\n",
    "\n",
    "* Thinking about your own geographical learning and that of students, how would you define progress? \n",
    "\n",
    "* Can you identify and explain any difficulties in ‘pinning down’ exactly what progression means? \n",
    "\n",
    "* Are you aware of other educational stakeholders who would define progress in different ways? If so: Who are they?What are their criteria? Why do they differ? \n",
    "\n",
    "Jot down your thoughts before reading on.\n"
   ]
  },
  {
   "cell_type": "markdown",
   "metadata": {},
   "source": [
    "Taylor (2013, p. 302) notes:\n",
    "\n",
    "<!--Quote id=-->\n",
    ">Learning involves change in someone’s knowledge, understanding, skills or attitudes (and the meaning of each of those terms and the relationship between them is complex and contested), but a neutral idea of ‘change’ is not good enough. The change must be seen as valuable, as moving in a positive direction, as progress."
   ]
  },
  {
   "cell_type": "markdown",
   "metadata": {},
   "source": [
    "This raises the question: who decides what is valuable? The learner, the teacher, parents, schools, examination boards, government departments or regulators? Different stakeholders have different ideologies. In a subject as broad as geography, what is valued by one person might not be by another. The emphasis placed on knowledge, understanding, skills and attitudes varies. Geography is also dynamic and continually under construction, so the valued elements also change over time."
   ]
  },
  {
   "cell_type": "markdown",
   "metadata": {},
   "source": [
    "## 1.1 Notions of progression"
   ]
  },
  {
   "cell_type": "markdown",
   "metadata": {},
   "source": [
    "Progression takes place over a number of timescales: across a sequence of lessons; a year; a key stage. You have to decide how to structure teaching and assessment over these timescales in order to support students’ progression in learning. \n",
    "\n",
    "Progression can be considered in relation to the learning experiences planned by the teacher:\n",
    "\n",
    "* increasing breadth of study\n",
    "\n",
    "* wider range of scales studied\n",
    "\n",
    "* greater complexity of phenomena studied \n",
    "\n",
    "* introducing more precise geographical terminology and vocabulary\n",
    "\n",
    "* increasing use of generalised knowledge and abstract ideas, particularly through making connections and comprehending relationships (Weeden, 2013, p. 147)\n",
    "\n",
    "* requiring greater precision in undertaking intellectual and practical tasks \n",
    "\n",
    "* a more mature awareness and understanding of issues and of the context of differing attitudes and values within which they arise. \n",
    "\n",
    "Progress will be apparent if students are ready for more demanding teaching and learning experiences. Progression can also be viewed in terms of student performance (achievement against mark schemes and grade criteria for specific units of work or GCSE or A Levels).\n",
    "\n",
    "To help students make progress, you need to have a clear understanding of the learning that they need to do, where they are now and how best to help them bridge the gap. Assessment is, therefore, a key component of planning for progression. Individual students vary in the rate at which they progress, according to their individual interests and abilities, the learning and teaching styles employed and the nature and structure of the activity. Assessment should be designed so that all students have an opportunity to demonstrate their progress and so that you can plan to address individuals’ learning needs.\n",
    "\n",
    "The following activity allows you to consider proposals from the Geographical Association (GA) for integrated planning for progression and assessment. "
   ]
  },
  {
   "cell_type": "markdown",
   "metadata": {},
   "source": [
    "### Activity 2 Assessment and progression – views from the GA\n",
    "__Timing: Allow about 1 hour__"
   ]
  },
  {
   "cell_type": "markdown",
   "metadata": {},
   "source": [
    "#### Question\n",
    "\n",
    "In England, the Geographical Association is concerned that an emphasis on locational and place knowledge, human and physical processes in the Geography National Curriculum (GNC) 2014 will erode notions of progression in curriculum and assessment planning. They have published a framework to address their concerns. The discussion of the proposals related to assessment and progression will be relevant to teachers whether they work in England or elsewhere.\n",
    "\n",
    "1. \n",
    "If you want to know more about the context of assessment and progression in England prior to the introduction of the GNC in 2014, read Lambert’s (2010) think piece on progression, which has a short discussion and some useful appendices."
   ]
  },
  {
   "cell_type": "markdown",
   "metadata": {},
   "source": [
    "2. \n",
    "Download and save An assessment and progression framework for geography (Geographical Association, 2014a) and the accompanying PowerPoint presentation, Progression and assessment without levels (Geographical Association, 2014b). You will use these again in Activity 4. \n",
    "\n",
    "Read the following sections: ‘A clear vision’ and ‘The framework’. Also look at the framework diagram on page 4. Read slides 1–12 and 28 in the PowerPoint presentation and the accompanying notes.\n",
    "\n",
    "What does the Geographical Association see as possible benefits of the framework advocated here?\n"
   ]
  },
  {
   "cell_type": "markdown",
   "metadata": {},
   "source": [
    "#### Discussion\n",
    "\n",
    "The Geographical Association says:\n",
    "\n",
    "* The framework seeks to address concerns that an emphasis on graded assessments encouraged a labelling culture (students saw themselves as being a Level 4b, etc.). This could place a ‘ceiling’ on student progress.\n",
    "\n",
    "* The use of levels can encourage teachers and students to ‘race through’ the levels and see learning as a linear process.\n",
    "\n",
    "Emphasis is placed on the following:\n",
    "\n",
    "* progress through ‘revisiting places and topics in ways that __build depth of knowledge and understanding__ rather than a simple step-by-step process’\n",
    "\n",
    "* __decisions at the school level__ in terms of assessment policies and teachers’ roles in contextualising expectations to develop assessment criteria that will make sense to students.\n",
    "\n"
   ]
  },
  {
   "cell_type": "markdown",
   "metadata": {},
   "source": [
    "## 1.2 Summary"
   ]
  },
  {
   "cell_type": "markdown",
   "metadata": {},
   "source": [
    "There is no definitive definition of what progress in geography means. Often, progress is assessed in terms of student performance related to level descriptors and examination marking criteria. To support learning you might adopt a broader consideration of progress that focuses on deepening and securing knowledge and understanding, and making connections rather than encouraging students to ‘tick one box’ and move on to the next challenge.\n"
   ]
  }
 ],
 "metadata": {
  "jupytext": {
   "cell_metadata_filter": "-all",
   "main_language": "python",
   "notebook_metadata_filter": "-all",
   "text_representation": {
    "extension": ".md",
    "format_name": "markdown"
   }
  }
 },
 "nbformat": 4,
 "nbformat_minor": 4
}
