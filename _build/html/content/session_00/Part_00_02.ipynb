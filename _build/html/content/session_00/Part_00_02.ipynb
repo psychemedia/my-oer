{
 "cells": [
  {
   "cell_type": "markdown",
   "metadata": {},
   "source": [
    "# 2 How can assessment be integrated into teaching and learning?"
   ]
  },
  {
   "cell_type": "markdown",
   "metadata": {},
   "source": [
    "This section considers how a range of purposes determines the focus and implementation of assessment and how you might plan to integrate assessment into learning sequences. The following activity will help you to consider your own experiences of, and ideas about, assessment."
   ]
  },
  {
   "cell_type": "markdown",
   "metadata": {},
   "source": [
    "### Activity 3 Your personal views of assessment\n",
    "__Timing: Allow about 15 minutes__\n",
    "<!--Heading:\n",
    "            Part 1-->\n",
    "\n",
    "#### Question\n",
    "\n",
    "Note down what comes to mind when you think about assessment. The following questions will help to prompt your thinking: \n",
    "\n",
    "* What constitutes assessment?\n",
    "\n",
    "* What experiences of assessment have you had? \n",
    "\n",
    "* What were the purposes of different types of assessment?\n",
    "\n",
    "* What feelings do you associate with assessment?\n",
    "\n",
    "* Which experiences of assessment have been most helpful to you as a learner and in what ways?\n",
    "<!--Heading:\n",
    "            Part 2-->\n",
    "\n",
    "#### Question\n",
    "\n",
    "Make lists of what you think assessment should achieve from the perspective of the:\n",
    "\n",
    "* learner\n",
    "\n",
    "* parent/carer\n",
    "\n",
    "* teacher\n",
    "\n",
    "* school\n",
    "\n",
    "* government, employers and wider society.\n",
    "<!--Heading:\n",
    "            Part 3-->\n",
    "\n",
    "#### Question\n",
    "\n",
    "Which do you think are the most important purposes of assessment and why? "
   ]
  },
  {
   "cell_type": "markdown",
   "metadata": {},
   "source": [
    "#### Discussion\n",
    "\n",
    "You may have thought of timed, written tests that were intended to sum up whatever you had learned over a course, the results of which determined setting and further study paths. Associated with these memories there may be feelings of anxiety or elation. As a successful learner you will have learned to cope with such assessments. You may have found them motivational. For those who find learning more difficult, or who had an off-day, however, assessment may impact on their self-confidence and self-worth, as well as their attitude towards geography and towards school.  \n"
   ]
  },
  {
   "cell_type": "markdown",
   "metadata": {},
   "source": [
    "The purposes of assessment are discussed on the next page."
   ]
  },
  {
   "cell_type": "markdown",
   "metadata": {},
   "source": [
    "## 2.1 Roles of assessment"
   ]
  },
  {
   "cell_type": "markdown",
   "metadata": {},
   "source": [
    "More often than not, assessment in the past was done __to__ students. Its main purpose was not to help improve learning; it was to find out what someone did – or did not – know. Learners were often simply given a mark or a brief comment (‘excellent’, ‘could do better’ and so on). Little help was given to learners regarding their particular difficulties or how they might improve their work. This is assessment of learning (AoL), which is also known as summative assessment. \n",
    "\n",
    "The role of assessment in school today is thought about very differently – much emphasis is placed on assessment for learning (AfL, also known as formative assessment). Links between different types of assessment are summarised in Figure 1, and Table 1 distinguishes between AoL and AfL."
   ]
  },
  {
   "cell_type": "markdown",
   "metadata": {},
   "source": [
    "![Figure 1 is a complex diagram that shows planning, teaching and assessment as connected activities. It is read from left to right and includes several loops. The first box is ‘Assess pupils’ current knowledge and understanding’. The arrow leads to the next box on the right, which is ‘Planning’. An arrow straight down from this leads to ‘Teaching’. It is a double-headed arrow to indicate that planning and teaching inform each other. The teaching box has three other linked boxes; ‘continual assessment of pupils’ learning’, ‘internal test (e.g. end-of-topic test)’ and ‘external examination’. All these loop back to the planning box to indicate that assessment informs planning. Even tests are used to inform planning and teaching although the externally set examination remains as a final assessment.](../images/pgce_geography_assessment_fig01.gif)"
   ]
  },
  {
   "cell_type": "markdown",
   "metadata": {},
   "source": [
    "Figure 1 Links between different types of assessment  \n",
    "\n",
    "<table xmlns:str=\"http://exslt.org/strings\">\n",
    "<caption>Table 1 A summary of AoL and AfL</caption>\n",
    "<tbody>\n",
    "<tr>\n",
    "<th></th>\n",
    "<th>Assessment *of* learning </th>\n",
    "<th>Assessment *for* learning </th>\n",
    "</tr>\n",
    "<tr>\n",
    "<td class=\"highlight_\" rowspan=\"\" colspan=\"\">__Purpose__</td>\n",
    "<td class=\"highlight_\" rowspan=\"\" colspan=\"\">To find out what students know, understand and can do (skills)</td>\n",
    "<td class=\"highlight_\" rowspan=\"\" colspan=\"\">To find out what students know, understand and can do (skills)</td>\n",
    "</tr>\n",
    "<tr>\n",
    "<td class=\"highlight_\" rowspan=\"\" colspan=\"\">__Uses __</td>\n",
    "<td class=\"highlight_\" rowspan=\"\" colspan=\"\">\n",
    "Medium and long-term reporting to others (exam results)\n",
    "\n",
    "Judging school effectiveness\n",
    "\n",
    "Certification\n",
    "</td>\n",
    "<td class=\"highlight_\" rowspan=\"\" colspan=\"\">\n",
    "Day to day and within sequences of lessons, assessment __for__ and__ with __students\n",
    "\n",
    "To inform planning (future learning objectives)\n",
    "\n",
    "To support students in making and monitoring progress (identify individual, evolving needs)\n",
    "\n",
    "To support teacher evaluation of the effectiveness of practice (check objectives against outcomes)\n",
    "</td>\n",
    "</tr>\n",
    "<tr>\n",
    "<td class=\"highlight_\" rowspan=\"\" colspan=\"\">__Audiences__</td>\n",
    "<td class=\"highlight_\" rowspan=\"\" colspan=\"\">\n",
    "Parents\n",
    "\n",
    "School\n",
    "\n",
    "External agencies (e.g. inspections)\n",
    "</td>\n",
    "<td class=\"highlight_\" rowspan=\"\" colspan=\"\">\n",
    "Students\n",
    "\n",
    "Teacher\n",
    "</td>\n",
    "</tr>\n",
    "</tbody>\n",
    "</table>\n",
    "\n",
    "An over-reliance on AoL – focusing on grades rather than where to go next – can damage the self-esteem of low attainers, while high attainers become reluctant to take risks due to fear of failure. AfL approaches seek to avoid these pitfalls. The importance of AfL and the crucial role that it plays in enhancing teaching and learning is supported by a great deal of research. It is important to ensure that assessment is the servant of teaching and learning and not their master."
   ]
  },
  {
   "cell_type": "markdown",
   "metadata": {},
   "source": [
    "### Reflection point\n",
    "\n",
    "Can summative assessment be used formatively?\n",
    "\n"
   ]
  },
  {
   "cell_type": "markdown",
   "metadata": {},
   "source": [
    "## 2.2 An integrated approach"
   ]
  },
  {
   "cell_type": "markdown",
   "metadata": {},
   "source": [
    "If assessment is to support learning, then how it is carried out is of prime importance. It is not simply what a teacher does but also how it is done that is important. To make AfL integral to learning try to:\n",
    "\n",
    "* __Identify what you want students to learn; use appropriate tasks and blend in activities that will allow AfL__ in terms of individuals’ techniques and skills, understanding of wider concepts and ability to apply their understanding in less familiar contexts. \n",
    "\n",
    "* __Assess students as individuals__ as they learn at different rates; they learn different things from each other and from their experiences; and some develop misconceptions. Then teaching can be matched to needs of individuals. Include opportunities for students to respond to feedback.\n",
    "\n",
    "* __Integrate continuous, systematic assessment into every lesson__ so that evidence is used to adapt teaching to meet learning needs – in this way it becomes AfL (Black et al., 2004, p. 10). \n",
    "\n",
    "* __Assess the effectiveness of your teaching__: use evidence about the effectiveness of the teaching decisions that you take (approaches, resources, tasks, activities, timings and so on) to inform modifications within lessons or sequences. \n",
    "\n",
    "Without the process of adapting teaching and learning, the assessment is not formative – it is merely frequent."
   ]
  },
  {
   "cell_type": "markdown",
   "metadata": {},
   "source": [
    "### Activity 4 Integrating AoL and AfL \n",
    "__Timing: Allow about 1 hour 15 minutes__\n",
    "<!--Heading:\n",
    "            Part 1-->\n",
    "\n",
    "#### Question\n",
    "\n",
    "Revisit the files from the GA web page that you saved for Section 1 Activity 2.\n",
    "\n",
    "* An assessment and progression framework for geography: read the last two sections.\n",
    "\n",
    "* Progression and assessment without levels (PowerPoint presentation): read slides 17–27 and the accompanying notes.\n",
    "<!--Heading:\n",
    "            Part 2-->\n",
    "\n",
    "#### Question\n",
    "\n",
    "The PowerPoint presentation includes some examples based on a tectonics unit. Look at slide 13 to pick out ‘what to assess’, using the age-related benchmark expectations from page 4 of the *Framework *pdf. \n",
    "\n",
    "Think about how this will translate into ‘how’, using slides 23–26. \n",
    "<!--Heading:\n",
    "            Part 3-->\n",
    "\n",
    "#### Question\n",
    "\n",
    "Thinking about the shorter term, read Sidhu (2011), Why use AfL? Dusting off the black box.\n",
    "\n",
    "* How do his experiences relate to the four tips for making AfL integral to teaching ?"
   ]
  },
  {
   "cell_type": "markdown",
   "metadata": {},
   "source": [
    "#### Question\n",
    "\n",
    "__Identifying what you want students to learn__"
   ]
  },
  {
   "cell_type": "markdown",
   "metadata": {},
   "source": [
    "#### Question\n",
    "__Assessing students as individuals__\n",
    "\n",
    "#### Question\n",
    "\n",
    "__Integrating assessment into every lesson __"
   ]
  },
  {
   "cell_type": "markdown",
   "metadata": {},
   "source": [
    "#### Question\n",
    "__Assessing the effectiveness of your teaching:__\n"
   ]
  },
  {
   "cell_type": "markdown",
   "metadata": {},
   "source": [
    "## 2.3 Summary"
   ]
  },
  {
   "cell_type": "markdown",
   "metadata": {},
   "source": [
    "While AoL has important roles to play in the education system, AfL can foster a sense of interdependence in the classroom and help to empower and engage students (Sidhu, 2011). In terms of how to assess, you need to have a long-term strategy to integrate AfL and AoL related to progression within the geography curriculum. Medium- and short-term assessment can then be devised to give all students the opportunity to demonstrate progress and give you the opportunity to respond to learners’ needs. \n"
   ]
  }
 ],
 "metadata": {
  "jupytext": {
   "cell_metadata_filter": "-all",
   "main_language": "python",
   "notebook_metadata_filter": "-all",
   "text_representation": {
    "extension": ".md",
    "format_name": "markdown"
   }
  }
 },
 "nbformat": 4,
 "nbformat_minor": 4
}
