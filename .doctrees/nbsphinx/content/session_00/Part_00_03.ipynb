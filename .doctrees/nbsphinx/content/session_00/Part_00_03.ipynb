{
 "cells": [
  {
   "cell_type": "markdown",
   "metadata": {},
   "source": [
    "# 3 How can assessment support learning?"
   ]
  },
  {
   "cell_type": "markdown",
   "metadata": {},
   "source": [
    "In this section you will consider the roles of questioning and feedback, and how involving students in the assessment process supports them in becoming independent learners."
   ]
  },
  {
   "cell_type": "markdown",
   "metadata": {},
   "source": [
    "## 3.1 Questioning"
   ]
  },
  {
   "cell_type": "markdown",
   "metadata": {},
   "source": [
    "You may ask students questions to develop a narrative of the lesson or to reinforce instructions and learning intentions as a key management tool. Other questions are intended to assess knowledge, understanding and skills. These assessment questions may range in their cognitive challenge and may be either closed or open (Figure 2)."
   ]
  },
  {
   "cell_type": "markdown",
   "metadata": {},
   "source": [
    "![Figure 2 shows a diagram with two axes. On the horizontal x axis an arrow labelled as ‘increasing attention to pupils’ thinking’ goes from left to right. On the far left of the arrow relatively little time for thinking is equated with closed questions, for which there is one acceptable answer. On the far right of the x axis more time for thinking is equated to open questioning, in which there will be many acceptable answers.On the vertical Y axis the scale goes from low to high levels of cognitive demand made on pupils. There are five categories from recall of knowledge at the bottom, to comprehension of data, analysis of data, synthesis and finally evaluation at the top of this scale.There are four examples of closed questions to make increasing cognitive demands on pupils. They are arranged on the left-hand side of the diagram in text boxes. At the bottom for recall of knowledge is ‘This feature is called an e… ?’ The intended answer is escarpment. For comprehension of data the question is ‘Look at the graph. What is the temperature for April?’ For analysis of data the question is ‘Which three factors were important for the location of this industry?’ Finally, at the top for evaluation, the closed question is ‘Which of these three sites should be used for a hypermarket?’There are five examples of open questions to make increasing cognitive demands on pupils. They are arranged on the right-hand side of the diagram in text boxes. At the bottom for recall of knowledge is ‘What do you remember about the urban areas shown in this film?’ For comprehension of data the question is ‘In what ways do these average temperature figures not give the full picture?’ For analysis of data the question is ‘What would be the most important factors to take into account in planning a new residential estate?’ For synthesis the question is ‘How would you measure how fast a glacier is moving?’ Finally, in the top right-hand side the open question for evaluation is ‘Do you think this pedestrianisation plan should go ahead? Justify your opinion.’](../images/pgce_geography_assessment_fig02.gif)"
   ]
  },
  {
   "cell_type": "markdown",
   "metadata": {},
   "source": [
    "Figure 2 Two dimensions of questioning (Lambert and Balderstone, 2010, p. 105)"
   ]
  },
  {
   "cell_type": "markdown",
   "metadata": {},
   "source": [
    "Aim to make your questioning inclusive. Planning questions before teaching a lesson and tailoring these questions to students within your classes can build student motivation. Remember there are different types of question that elicit different types of response. Try to stretch and challenge all of your students. Try not to put a ceiling on what they might be able to achieve with a little support (or scaffolding). "
   ]
  },
  {
   "cell_type": "markdown",
   "metadata": {},
   "source": [
    "### Activity 5 Dimensions of questioning \n",
    "__Timing: Allow about 45 minutes__\n",
    "<!--Heading:\n",
    "            Part 1-->\n",
    "\n",
    "#### Question\n",
    "\n",
    "Print Figure 2 and annotate the diagram to show your ideas on: \n",
    "\n",
    "* which students would benefit from the different types of question \n",
    "\n",
    "* when it might be appropriate to ask the different types of question.\n",
    "<!--Heading:\n",
    "            Part 2-->\n",
    "\n",
    "#### Question\n",
    "\n",
    "For a lesson you are planning, or using the Year 12 lesson plan, devise a series of questions that you could pose, which vary in terms of cognitive challenge and closed/open nature. Try to list a minimum of twelve questions and then categorise these questions using Bloom’s revised taxonomy (Figure 3)."
   ]
  },
  {
   "cell_type": "markdown",
   "metadata": {},
   "source": [
    "![This diagram describes six sets of thinking skills. The title for each set of thinking skills is followed by a list of relevant actions. The titles of the six sets of thinking are listed here in order from the bottom of the diagram to the top, followed by the related actions. A wide arrow can be seen behind the text starting at the bottom and pointing upwards beyond the top of the text. First, there is ‘remembering’, which includes recalling information, recognising, listing, describing, retrieving, naming and finding. Then there is ‘understanding’, which includes explaining ideas or concepts, interpreting, summarising, paraphrasing, classifying and explaining. Thirdly, there is ‘applying’, which includes using information in another familiar situation, implementing, carrying out, using and executing. The fourth set is titled ‘analysing’ and includes breaking information into parts to explore understandings and relationships, comparing, organising, deconstructing, interrogating and finding.Fifth is ‘evaluating’, which includes justifying a decision or course of action, checking, hypothesising, critiquing, experimenting and judging. Finally, ‘creating’ might involve generating new ideas, products or ways of viewing things, designing, constructing, planning, producing and inventing.To the left-hand side of the hierarchical list is a bracket around the top three sets of thinking skills: creating, evaluating and analysing. These are described with a label that reads ‘higher-order thinking skills’.](../images/pgce_geography_assessment_fig03.gif)"
   ]
  },
  {
   "cell_type": "markdown",
   "metadata": {},
   "source": [
    "Figure 3 Bloom’s revised taxonomy \n",
    "\n"
   ]
  },
  {
   "cell_type": "markdown",
   "metadata": {},
   "source": [
    "Practical strategies for effective questioning for AfL include:\n",
    "\n",
    "* ‘no hands up’ to help to involve all students \n",
    "\n",
    "* ‘hot-seating’ to extend interaction with one student and to scaffold learning and drill down into knowledge and understanding (this can also include students posing questions)\n",
    "\n",
    "* allowing sufficient wait time for a student to respond and, crucially for you to feedback, take some time to evaluate student responses, especially if the answer was unexpected\n",
    "\n",
    "* using ‘pose-pause-pounce-bounce’. ‘Pose’ a question, students talk about it in a pair. After a few minutes, ‘pounce’ on one pair and ask for a response. The ‘bounce’ involves getting other pairs to respond to the response."
   ]
  },
  {
   "cell_type": "markdown",
   "metadata": {},
   "source": [
    "![Children in a classroom, some with their hands in the air](../images/pgce_geography_assessment_fig04.jpg)"
   ]
  },
  {
   "cell_type": "markdown",
   "metadata": {},
   "source": [
    "Figure 4 Hands up or ‘who to choose’?\n"
   ]
  },
  {
   "cell_type": "markdown",
   "metadata": {},
   "source": [
    "## 3.2 The impact of feedback "
   ]
  },
  {
   "cell_type": "markdown",
   "metadata": {},
   "source": [
    "Significant amounts of time and effort are expended on teacher and peer assessment to provide oral and written feedback comments – the challenge is to make this feedback effective (specific, encouraging, clear) and to engage students in a dialogue about their work. \n",
    "\n",
    "Weeden (2005) suggests prompts should encourage immediate improvements. Can you think of some examples?\n",
    "\n",
    "* Reminder prompts – *say more about …*\n",
    "\n",
    "* Scaffold prompts – *can you explain why* …? (questions)\n",
    "\n",
    "* Example prompts – *choose one of these statements or create your own*.\n",
    "\n",
    "You can look for examples of these and other prompts in the next activity, which focuses on the feedback students receive from a teacher."
   ]
  },
  {
   "cell_type": "markdown",
   "metadata": {},
   "source": [
    "### Activity 6 AfL questioning and groupwork feedback\n",
    "__Timing: Allow about 30 minutes__"
   ]
  },
  {
   "cell_type": "markdown",
   "metadata": {},
   "source": [
    "#### Question\n",
    "\n",
    "Watch the [‘Group work and feedback’](https://www.open.ac.uk/libraryservices/resource/video:106748&amp;f=28688) video. (Alternatively, you can read a transcript.)\n",
    "\n",
    "Note any issues that are relevant to your own practice or tips that you could develop in your own feedback. \n",
    "\n",
    "For example:\n",
    "\n",
    "* How do you respond when a student goes beyond the intended learning outcomes?\n",
    "\n",
    "* How do you share feedback? Does it always have to ‘come through you’?\n",
    "\n"
   ]
  },
  {
   "cell_type": "markdown",
   "metadata": {},
   "source": [
    "## 3.3 Self and peer assessment"
   ]
  },
  {
   "cell_type": "markdown",
   "metadata": {},
   "source": [
    "Improving learning through assessment requires students to be involved in their own learning, assessing themselves and understanding what they need to do to improve (Black and Wiliam, 1998). This can be achieved through: \n",
    "\n",
    "* sharing learning goals and assessment criteria with students; involving students in the identification of learning goals\n",
    "\n",
    "* helping students to know and recognise the standards they are aiming for\n",
    "\n",
    "* involving students in self and peer assessment, encouraging them to review their work critically and constructively\n",
    "\n",
    "* providing feedback that helps students recognise their next steps and how to take them\n",
    "\n",
    "* both teacher and students reviewing and reflecting on assessment data.\n",
    "\n",
    "Peer assessment is an important tool in enabling students to develop as independent learners. Independent learners are able to self-assess effectively and to use metacognitive skills to decide how to move forward, developing self-regulation and self-efficacy. Engaging with criteria and giving feedback in peer assessment will help students to assess their own learning. They will also become more engaged in their learning, and will build their confidence in discussing work with peers in a reflective, collaborative process. To facilitate self and peer assessment you need to commit to learners having control over the process, being able to discuss learning and developing effective student feedback. "
   ]
  },
  {
   "cell_type": "markdown",
   "metadata": {},
   "source": [
    "### Activity 7 Self and peer assessment \n",
    "__Timing: Allow about 40 minutes__\n",
    "<!--Heading:\n",
    "            Part 1-->\n",
    "\n",
    "#### Question\n",
    "\n",
    "Open the geography self-assessment sheet. \n",
    "\n",
    "Adapt the sheet for a contrasting topic of your choice.\n",
    "\n",
    "Note the incorporation of targets in this self-assessment sheet. \n",
    "\n",
    "* What is the timescale of the targets?\n",
    "\n",
    "* What are the advantages of this approach to targets?\n",
    "\n",
    "* What are the weaknesses?\n",
    "<!--Heading:\n",
    "            Part 2-->\n",
    "\n",
    "#### Question\n",
    "\n",
    "Watch the video at [‘Secondary AfL – geography’](https://www.open.ac.uk/libraryservices/resource/video:106749&amp;f=28688). (Alternatively, you can read a transcript.)\n",
    "\n",
    "Observe the variety of support provided to different year groups for peer assessment.\n",
    "\n",
    "The example includes AfL that is very directly related to AoL, tied to mark schemes and model answers. Can you see any limitations in this approach?\n",
    "<!--Heading:\n",
    "            Part 3-->\n",
    "\n",
    "#### Question\n",
    "\n",
    "Listen to [Dylan Wiliam](https://www.open.ac.uk/libraryservices/resource/video:106752&amp;f=28688) review some of the benefits of self and peer assessment as a key component of effective learning\n"
   ]
  },
  {
   "cell_type": "markdown",
   "metadata": {},
   "source": [
    "Student involvement in setting ‘next steps’ and providing feedback aids their learning about geography and about the skills involved in learning. However, be aware that:\n",
    "\n",
    "* next steps identified by students may be limited by their knowledge and understanding\n",
    "\n",
    "* in self or peer assessment unintended outcomes or alternative viewpoints may not be valued\n",
    "\n",
    "* model answers and prescriptive mark schemes may limit student independence for some formats of learning (enquiry or more creative work)\n",
    "\n",
    "* weak literacy can be an issue.\n",
    "\n",
    "You will need to consider issues like these as you support student self and peer assessment."
   ]
  },
  {
   "cell_type": "markdown",
   "metadata": {},
   "source": [
    "## 3.4 Summary"
   ]
  },
  {
   "cell_type": "markdown",
   "metadata": {},
   "source": [
    "The type of assessment used influences the type of student learning: a focus on formulaic testing can encourage ‘teaching to the test’ to maximise performance and may result in shallow learning. The intention of AfL is to facilitate geographical learning that is deep and advances student understanding as well as skills and independence (Weeden, 2013, p. 149).\n"
   ]
  }
 ],
 "metadata": {
  "jupytext": {
   "cell_metadata_filter": "-all",
   "main_language": "python",
   "notebook_metadata_filter": "-all",
   "text_representation": {
    "extension": ".md",
    "format_name": "markdown"
   }
  }
 },
 "nbformat": 4,
 "nbformat_minor": 4
}
